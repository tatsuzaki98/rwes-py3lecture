{
 "cells": [
  {
   "cell_type": "code",
   "execution_count": 1,
   "metadata": {},
   "outputs": [],
   "source": [
    "import numpy"
   ]
  },
  {
   "cell_type": "markdown",
   "metadata": {},
   "source": [
    "---\n",
    "\n",
    "The numpy library treats arrays as NDArray object.\n",
    "\n",
    "You can create an NDArray object, for example using the `numpy.array` method."
   ]
  },
  {
   "cell_type": "code",
   "execution_count": 2,
   "metadata": {},
   "outputs": [
    {
     "name": "stdout",
     "output_type": "stream",
     "text": [
      "[[1. 2.]\n",
      " [3. 4.]]\n"
     ]
    }
   ],
   "source": [
    "ndarray_2d = numpy.array([[1.0, 2.0], [3.0, 4.0]])\n",
    "\n",
    "print(ndarray_2d)"
   ]
  },
  {
   "cell_type": "markdown",
   "metadata": {},
   "source": [
    "You can access each element in the same way as a `list` type."
   ]
  },
  {
   "cell_type": "code",
   "execution_count": 3,
   "metadata": {},
   "outputs": [
    {
     "data": {
      "text/plain": [
       "3.0"
      ]
     },
     "execution_count": 3,
     "metadata": {},
     "output_type": "execute_result"
    }
   ],
   "source": [
    "ndarray_2d[1][0]"
   ]
  },
  {
   "cell_type": "markdown",
   "metadata": {},
   "source": [
    "NDArray is an array-like class specialized for numerical calculation.\n",
    "\n",
    "for example, `+`, `-`, `*`, `/`, and other basic arithmetical operations will be broadcasted to the entire array.\n",
    "\n",
    "This behavior is same as Fortran ^90.\n"
   ]
  },
  {
   "cell_type": "code",
   "execution_count": 4,
   "metadata": {},
   "outputs": [
    {
     "name": "stdout",
     "output_type": "stream",
     "text": [
      "[[3. 5.]\n",
      " [7. 9.]]\n"
     ]
    }
   ],
   "source": [
    "result_arithmetic = (ndarray_2d * 2) + 1\n",
    "print(result_arithmetic)"
   ]
  },
  {
   "cell_type": "markdown",
   "metadata": {},
   "source": [
    "Note that `list` (python built-in array class) and `ndarray` are not the same."
   ]
  },
  {
   "cell_type": "code",
   "execution_count": 5,
   "metadata": {},
   "outputs": [
    {
     "name": "stdout",
     "output_type": "stream",
     "text": [
      "[[1.0, 2.0], [3.0, 4.0], [1.0, 2.0], [3.0, 4.0]]\n"
     ]
    }
   ],
   "source": [
    "list_2d = [[1.0, 2.0], [3.0, 4.0]]\n",
    "\n",
    "# this will be an unexpected result.\n",
    "result_list = list_2d * 2\n",
    "\n",
    "print(result_list)"
   ]
  },
  {
   "cell_type": "markdown",
   "metadata": {},
   "source": [
    "---\n",
    "\n",
    "Read binary file such as distributed precipitation data.\n",
    "\n",
    "First, define control parameters for the binary file to read.\n",
    "These values are usually provided with binary files as a `.ctl` file."
   ]
  },
  {
   "cell_type": "code",
   "execution_count": 6,
   "metadata": {},
   "outputs": [],
   "source": [
    "NUM_X = 5\n",
    "NUM_Y = 5\n",
    "NUM_MESH = NUM_X * NUM_Y\n",
    "WORD_LENGTH = 4\n",
    "RECORD_LENGTH = NUM_MESH * WORD_LENGTH"
   ]
  },
  {
   "cell_type": "markdown",
   "metadata": {},
   "source": [
    "Then, read file as 1-dimensional NDArray (NumPy Data Array)."
   ]
  },
  {
   "cell_type": "code",
   "execution_count": 7,
   "metadata": {},
   "outputs": [
    {
     "name": "stdout",
     "output_type": "stream",
     "text": [
      "[12.   8.5  2.1  0.   4.9 10.2  7.9  6.2  0.7  0.   9.8  8.5  5.4  1.1\n",
      "  2.8  8.9  4.5  2.1  0.   0.   6.   8.5  0.8  0.5  0. ]\n"
     ]
    }
   ],
   "source": [
    "file_path = '../database/precipitation.bin'\n",
    "\n",
    "record = numpy.fromfile(\n",
    "    file=file_path,\n",
    "    dtype=numpy.float32,\n",
    "    offset=0*RECORD_LENGTH,\n",
    "    count=NUM_MESH,\n",
    ")\n",
    "\n",
    "print(record)"
   ]
  },
  {
   "cell_type": "markdown",
   "metadata": {},
   "source": [
    "Reshape the array."
   ]
  },
  {
   "cell_type": "code",
   "execution_count": 8,
   "metadata": {},
   "outputs": [
    {
     "name": "stdout",
     "output_type": "stream",
     "text": [
      "[[12.   8.5  2.1  0.   4.9]\n",
      " [10.2  7.9  6.2  0.7  0. ]\n",
      " [ 9.8  8.5  5.4  1.1  2.8]\n",
      " [ 8.9  4.5  2.1  0.   0. ]\n",
      " [ 6.   8.5  0.8  0.5  0. ]]\n"
     ]
    }
   ],
   "source": [
    "record_2d = numpy.reshape(record, [NUM_Y, NUM_X])\n",
    "\n",
    "print(record_2d)"
   ]
  },
  {
   "cell_type": "markdown",
   "metadata": {},
   "source": [
    "the direction of th y-axis is different depending on the file. Some files are South-to-North, others vice versa.\n",
    "\n",
    "Invert the y-axis with a `flipud` function."
   ]
  },
  {
   "cell_type": "code",
   "execution_count": 9,
   "metadata": {},
   "outputs": [
    {
     "name": "stdout",
     "output_type": "stream",
     "text": [
      "[[ 6.   8.5  0.8  0.5  0. ]\n",
      " [ 8.9  4.5  2.1  0.   0. ]\n",
      " [ 9.8  8.5  5.4  1.1  2.8]\n",
      " [10.2  7.9  6.2  0.7  0. ]\n",
      " [12.   8.5  2.1  0.   4.9]]\n"
     ]
    }
   ],
   "source": [
    "record_ud = numpy.flipud(record_2d)\n",
    "\n",
    "print(record_ud)"
   ]
  },
  {
   "cell_type": "markdown",
   "metadata": {},
   "source": [
    "### References\n",
    "- [ndarray - NumPy](https://numpy.org/doc/stable/reference/generated/numpy.ndarray.html)\n",
    "- [broadcasting - NumPy](https://numpy.org/doc/stable/user/basics.broadcasting.html)\n",
    "- [fromfile - NumPy](https://numpy.org/doc/stable/reference/generated/numpy.fromfile.html)\n",
    "- [reshape - NumPy](https://numpy.org/doc/stable/reference/generated/numpy.reshape.html)\n",
    "- [scalars - NumPy](https://numpy.org/doc/stable/reference/arrays.scalars.html)"
   ]
  }
 ],
 "metadata": {
  "kernelspec": {
   "display_name": "Python 3 (ipykernel)",
   "language": "python",
   "name": "python3"
  },
  "language_info": {
   "codemirror_mode": {
    "name": "ipython",
    "version": 3
   },
   "file_extension": ".py",
   "mimetype": "text/x-python",
   "name": "python",
   "nbconvert_exporter": "python",
   "pygments_lexer": "ipython3",
   "version": "3.8.10"
  },
  "vscode": {
   "interpreter": {
    "hash": "916dbcbb3f70747c44a77c7bcd40155683ae19c65e1c03b4aa3499c5328201f1"
   }
  }
 },
 "nbformat": 4,
 "nbformat_minor": 4
}
