{
 "cells": [
  {
   "cell_type": "code",
   "execution_count": 1,
   "metadata": {},
   "outputs": [],
   "source": [
    "import numpy"
   ]
  },
  {
   "cell_type": "code",
   "execution_count": 5,
   "metadata": {},
   "outputs": [
    {
     "name": "stdout",
     "output_type": "stream",
     "text": [
      "[[12.   8.5  2.1  0.   4.9]\n",
      " [10.2  7.9  6.2  0.7  0. ]\n",
      " [ 9.8  8.5  5.4  1.1  2.8]\n",
      " [ 8.9  4.5  2.1  0.   0. ]\n",
      " [ 6.   8.5  0.8  0.5  0. ]]\n"
     ]
    }
   ],
   "source": [
    "# 32-bit float value has a data size of 4 bytes\n",
    "WORD_LENGTH = 4\n",
    "\n",
    "# the number of x-y grids.\n",
    "NUM_X = 5\n",
    "NUM_Y = 5\n",
    "\n",
    "# array size in 1 dimension\n",
    "RECORD_LENGTH = NUM_X * NUM_Y\n",
    "\n",
    "record = numpy.fromfile(\n",
    "    file='../database/precipitation.bin',\n",
    "    dtype=numpy.float32,\n",
    "    offset=0*WORD_LENGTH,\n",
    "    count=RECORD_LENGTH,\n",
    ")\n",
    "\n",
    "record_2d = record.reshape([NUM_Y, NUM_X])\n",
    "\n",
    "print(record_2d)"
   ]
  },
  {
   "cell_type": "markdown",
   "metadata": {},
   "source": [
    "---\n",
    "### Define NDArray (Numpy Data Array)\n",
    "\n",
    "Equivalent Fortran^90 code:\n",
    "```f90\n",
    "real :: matrix(3, 3)\n",
    "matrix = reshape([ &\n",
    "    1, 4, 7, &\n",
    "    2, 5, 8, &\n",
    "    3, 6, 9  &\n",
    "], [3, 3])\n",
    "```"
   ]
  },
  {
   "cell_type": "code",
   "execution_count": 3,
   "metadata": {},
   "outputs": [
    {
     "name": "stdout",
     "output_type": "stream",
     "text": [
      "[[1. 2. 3.]\n",
      " [4. 5. 6.]\n",
      " [7. 8. 9.]]\n"
     ]
    }
   ],
   "source": [
    "matrix = numpy.array(\n",
    "    object=[\n",
    "        1, 2, 3,\n",
    "        4, 5, 6,\n",
    "        7, 8, 9,\n",
    "    ],\n",
    "    dtype=numpy.float32,\n",
    ").reshape([3, 3])\n",
    "\n",
    "print(matrix)"
   ]
  },
  {
   "cell_type": "markdown",
   "metadata": {},
   "source": [
    "---\n",
    "Pythonにはもともと組み込みの配列が存在する。\n",
    "\n",
    "NumPyの配列は組み込みの配列とは別物なので注意。\n",
    "\n",
    "似ている機能も多いが。"
   ]
  },
  {
   "cell_type": "code",
   "execution_count": 4,
   "metadata": {},
   "outputs": [],
   "source": [
    "matrix_built_in = [\n",
    "    [1.0, 2.0, 3.0],\n",
    "    [4.0, 5.0, 6.0],\n",
    "    [7.0, 8.0, 9.0],\n",
    "]\n",
    "\n",
    "# Get the value in the 1st row, 2nd column\n",
    "# -> both will return `2`\n",
    "matrix_built_in[0][1]\n",
    "matrix[0][1]\n",
    "\n",
    "# Get the length of the array\n",
    "# -> both will return `3`\n",
    "len(matrix_built_in)\n",
    "len(matrix)\n",
    "\n",
    "# Get the 2nd row by `pop` method\n",
    "matrix_built_in.pop(1)\n",
    "\"\"\"\n",
    "matrix.pop()\n",
    "    this will raise error because NDArray objects\n",
    "    has no attribute 'pop'.\n",
    "\"\"\"\n",
    "\n",
    "None"
   ]
  },
  {
   "cell_type": "markdown",
   "metadata": {},
   "source": [
    "---\n",
    "### Matrix Calculation\n",
    "NDArrayは多くの行列計算をサポートする. その構文はFortran ^90と共通する部分が多い"
   ]
  },
  {
   "cell_type": "markdown",
   "metadata": {},
   "source": [
    "##### Arithmetic\n",
    "`+`, `-`, `*`, `/`, and other basic arithmetical operations.\n",
    "\n",
    "```\n",
    "! Equivalent Fortran^90 code:\n",
    "result_arithmetic(:, :) = (matrix(:, :) * 2) + 10\n",
    "```\n"
   ]
  },
  {
   "cell_type": "code",
   "execution_count": 9,
   "metadata": {},
   "outputs": [
    {
     "name": "stdout",
     "output_type": "stream",
     "text": [
      "[[ 3.  5.  7.]\n",
      " [ 9. 11. 13.]\n",
      " [15. 17. 19.]]\n"
     ]
    }
   ],
   "source": [
    "result_arithmetic = (matrix[:, :] * 2) + 1\n",
    "\n",
    "print(result_arithmetic)"
   ]
  },
  {
   "cell_type": "markdown",
   "metadata": {},
   "source": [
    "##### `where` method\n",
    "\n",
    "条件に従って値を書き換える\n",
    "\n",
    "```f90\n",
    "! Equivalent Fortran^90 code:\n",
    "where (matrix(:, :) > 4.999e+0)\n",
    "    mask = 1.0e+0\n",
    "else where\n",
    "    mask = 0.0e+0\n",
    "end where\n",
    "```\n"
   ]
  },
  {
   "cell_type": "code",
   "execution_count": 10,
   "metadata": {},
   "outputs": [
    {
     "name": "stdout",
     "output_type": "stream",
     "text": [
      "[[0. 0. 0.]\n",
      " [0. 1. 1.]\n",
      " [1. 1. 1.]]\n"
     ]
    }
   ],
   "source": [
    "mask = numpy.where(\n",
    "    matrix > 4.999e+0,\n",
    "    1.0e+0,\n",
    "    0.0e+0,\n",
    ")\n",
    "\n",
    "print(mask)"
   ]
  },
  {
   "cell_type": "markdown",
   "metadata": {},
   "source": []
  },
  {
   "cell_type": "code",
   "execution_count": 1,
   "metadata": {},
   "outputs": [
    {
     "name": "stdout",
     "output_type": "stream",
     "text": [
      "yes\n"
     ]
    }
   ],
   "source": [
    "print('yes')"
   ]
  },
  {
   "cell_type": "code",
   "execution_count": null,
   "metadata": {},
   "outputs": [],
   "source": []
  }
 ],
 "metadata": {
  "kernelspec": {
   "display_name": "Python 3.8.10 64-bit",
   "language": "python",
   "name": "python3"
  },
  "language_info": {
   "codemirror_mode": {
    "name": "ipython",
    "version": 3
   },
   "file_extension": ".py",
   "mimetype": "text/x-python",
   "name": "python",
   "nbconvert_exporter": "python",
   "pygments_lexer": "ipython3",
   "version": "3.8.10"
  },
  "orig_nbformat": 4,
  "vscode": {
   "interpreter": {
    "hash": "916dbcbb3f70747c44a77c7bcd40155683ae19c65e1c03b4aa3499c5328201f1"
   }
  }
 },
 "nbformat": 4,
 "nbformat_minor": 2
}
