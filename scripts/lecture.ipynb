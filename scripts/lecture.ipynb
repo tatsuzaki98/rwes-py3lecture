{
 "cells": [
  {
   "cell_type": "markdown",
   "metadata": {},
   "source": [
    "# Lists\n",
    "\n",
    "Refs:\n",
    "- [Data Structures - python.org](https://docs.python.org/3/tutorial/datastructures.html)\n",
    "\n",
    "You can create a list with `[]` symbols.\n",
    "Note that in python the index starts at `0`.\n"
   ]
  },
  {
   "cell_type": "code",
   "execution_count": 51,
   "metadata": {},
   "outputs": [
    {
     "name": "stdout",
     "output_type": "stream",
     "text": [
      "a\n"
     ]
    }
   ],
   "source": [
    "characters = ['a', 'b', 'c', 'd', 'e']\n",
    "\n",
    "print(characters[0])"
   ]
  },
  {
   "cell_type": "markdown",
   "metadata": {},
   "source": [
    "You can slice the list with the `:` symbol."
   ]
  },
  {
   "cell_type": "code",
   "execution_count": 52,
   "metadata": {},
   "outputs": [
    {
     "name": "stdout",
     "output_type": "stream",
     "text": [
      "['c', 'd']\n"
     ]
    }
   ],
   "source": [
    "print(characters[2:4])"
   ]
  },
  {
   "cell_type": "markdown",
   "metadata": {},
   "source": [
    "The contents of the array can be anything"
   ]
  },
  {
   "cell_type": "code",
   "execution_count": 53,
   "metadata": {},
   "outputs": [],
   "source": [
    "list_of_anything = [\n",
    "    'hello',\n",
    "    12,\n",
    "    ['a', 'b', 'c'],\n",
    "    8.0e+0,\n",
    "    None,\n",
    "]"
   ]
  },
  {
   "cell_type": "markdown",
   "metadata": {},
   "source": [
    "You can add elements with `append` method or enumerate syntax"
   ]
  },
  {
   "cell_type": "code",
   "execution_count": 54,
   "metadata": {},
   "outputs": [
    {
     "name": "stdout",
     "output_type": "stream",
     "text": [
      "['a', 'b', 'c', 'd', 'e', '+']\n",
      "['a', 'b', 'c', 'd', 'e', '+', 'x', 'y', 'z']\n",
      "['a', 'b', 'c', 'd', '0', '1', '2', 'e', '+', 'x', 'y']\n"
     ]
    }
   ],
   "source": [
    "characters.append('+')\n",
    "print(characters)\n",
    "\n",
    "characters = [*characters, 'x', 'y', 'z']\n",
    "print(characters)\n",
    "\n",
    "# note: -1 means last index.\n",
    "characters = [*characters[0:4], '0', '1', '2', *characters[4:-1]]\n",
    "print(characters)"
   ]
  },
  {
   "cell_type": "markdown",
   "metadata": {},
   "source": [
    "# Control Flow\n",
    "\n",
    "\n",
    "Refs:\n",
    "- [`if` statement - python.org](https://docs.python.org/3/tutorial/controlflow.html#if-statements)\n",
    "- [`for` statement](https://docs.python.org/3/tutorial/controlflow.html#for-statements)\n",
    "- [the range function - python.org](https://docs.python.org/3/tutorial/controlflow.html#the-range-function)\n",
    "\n",
    "In python, `for` statement is used with `in {iterator}` statement.\n",
    "\n",
    "Iterators are objects that can be retrieved in order, the most common of which is a list."
   ]
  },
  {
   "cell_type": "code",
   "execution_count": 55,
   "metadata": {},
   "outputs": [
    {
     "name": "stdout",
     "output_type": "stream",
     "text": [
      "Bob\n",
      "Yamada\n",
      "Wang\n"
     ]
    }
   ],
   "source": [
    "members = ['Bob', 'Yamada', 'Wang']\n",
    "\n",
    "for name in members:\n",
    "    print(name)"
   ]
  },
  {
   "cell_type": "markdown",
   "metadata": {},
   "source": [
    "The string type is also an iterator."
   ]
  },
  {
   "cell_type": "code",
   "execution_count": 56,
   "metadata": {},
   "outputs": [
    {
     "name": "stdout",
     "output_type": "stream",
     "text": [
      "B\n",
      "o\n",
      "b\n"
     ]
    }
   ],
   "source": [
    "name = 'Bob'\n",
    "for character in name:\n",
    "    print(character)"
   ]
  },
  {
   "cell_type": "markdown",
   "metadata": {},
   "source": [
    "If you want to count numbers one by one like Fortran, use the `range` function.\n",
    "\n",
    "`range(a, b)` generates an iterator that starts at `a` and ends just before `b`.\n",
    "\n",
    "If `a` is `0`, then `a` can be omitted."
   ]
  },
  {
   "cell_type": "code",
   "execution_count": 57,
   "metadata": {},
   "outputs": [
    {
     "name": "stdout",
     "output_type": "stream",
     "text": [
      "0 is even, 1 is odd, 2 is even, 3 is odd, 4 is even, 5 is odd, 6 is even, 7 is odd, 8 is even, 9 is odd, "
     ]
    }
   ],
   "source": [
    "# same as:\n",
    "#   for i in range(0, 10):\n",
    "\n",
    "for i in range(10):\n",
    "    if (i % 2 == 0):\n",
    "        print(i, 'is even', end=', ')\n",
    "    else:\n",
    "        print(i, 'is odd', end=', ')\n"
   ]
  },
  {
   "cell_type": "markdown",
   "metadata": {},
   "source": [
    "# List Comprehensions\n",
    "リスト内包表記\n",
    "\n",
    "`for` statement and `if` statement can be written like a list definition.\n",
    "This will reduce the amount of code while maintaining readability.\n",
    "\n",
    "Refs:\n",
    "- [List Comprehensions - python.org](https://docs.python.org/3/tutorial/datastructures.html#list-comprehensions)"
   ]
  },
  {
   "cell_type": "code",
   "execution_count": 58,
   "metadata": {},
   "outputs": [
    {
     "name": "stdout",
     "output_type": "stream",
     "text": [
      "[0.0, 8.0, 12.0, 13.0, 4.0, 4.0]\n",
      "[0.0, 0.08, 0.12, 0.13, 0.04, 0.04]\n",
      "[8.0, 12.0, 13.0, 4.0, 4.0]\n"
     ]
    }
   ],
   "source": [
    "# precipitation in millimeter\n",
    "prec_in_mm = [\n",
    "    0.0, 8.0, 12.0, 13.0, 4.0, 4.0,\n",
    "]\n",
    "\n",
    "# precipitation in meter\n",
    "prec_in_m = [each * 0.01 for each in prec_in_mm]\n",
    "\n",
    "# non-zero values\n",
    "prec_nonzero = [\n",
    "    non_zero for non_zero in prec_in_mm\n",
    "    if non_zero > 0\n",
    "]\n",
    "\n",
    "print(prec_in_mm)\n",
    "print(prec_in_m)\n",
    "print(prec_nonzero)\n"
   ]
  },
  {
   "cell_type": "markdown",
   "metadata": {},
   "source": [
    "# Define Functions\n",
    "\n",
    "Refs:\n",
    "- [Define Functions - python.org](https://docs.python.org/3/tutorial/controlflow.html#defining-functions)"
   ]
  },
  {
   "cell_type": "code",
   "execution_count": 59,
   "metadata": {},
   "outputs": [
    {
     "name": "stdout",
     "output_type": "stream",
     "text": [
      "41.0\n"
     ]
    }
   ],
   "source": [
    "def get_sum(values):\n",
    "    result = 0\n",
    "    for each_value in values:\n",
    "        result = result + each_value\n",
    "    return result\n",
    "\n",
    "precipitation_set = [0.0, 8.0, 12.0, 13.0, 4.0, 4.0]\n",
    "\n",
    "print(get_sum(precipitation_set))"
   ]
  },
  {
   "cell_type": "markdown",
   "metadata": {},
   "source": [
    "# File Input / Output\n",
    "\n",
    "Refs:\n",
    "- [Reading and Writing Files](https://docs.python.org/ja/3/tutorial/inputoutput.html#tut-files)"
   ]
  },
  {
   "cell_type": "code",
   "execution_count": 60,
   "metadata": {},
   "outputs": [
    {
     "name": "stdout",
     "output_type": "stream",
     "text": [
      "\n",
      "open() returns a file object, and is most commonly\n",
      "used with two positional arguments and one keyword\n",
      "argument:\n",
      "    open(file, mode, encoding=None)\n",
      "\n"
     ]
    }
   ],
   "source": [
    "text_to_file = \"\"\"\n",
    "open() returns a file object, and is most commonly\n",
    "used with two positional arguments and one keyword\n",
    "argument:\n",
    "    open(file, mode, encoding=None)\n",
    "\"\"\"\n",
    "\n",
    "# Write\n",
    "with open(file='../database/temporary.text', mode='w') as f:\n",
    "    f.write(text_to_file)\n",
    "\n",
    "# Read\n",
    "with open('../database/temporary.text', 'r') as f:\n",
    "    text_from_file = f.read()\n",
    "\n",
    "print(text_from_file)"
   ]
  }
 ],
 "metadata": {
  "kernelspec": {
   "display_name": "Python 3.8.10 64-bit",
   "language": "python",
   "name": "python3"
  },
  "language_info": {
   "codemirror_mode": {
    "name": "ipython",
    "version": 3
   },
   "file_extension": ".py",
   "mimetype": "text/x-python",
   "name": "python",
   "nbconvert_exporter": "python",
   "pygments_lexer": "ipython3",
   "version": "3.8.10"
  },
  "orig_nbformat": 4,
  "vscode": {
   "interpreter": {
    "hash": "916dbcbb3f70747c44a77c7bcd40155683ae19c65e1c03b4aa3499c5328201f1"
   }
  }
 },
 "nbformat": 4,
 "nbformat_minor": 2
}
