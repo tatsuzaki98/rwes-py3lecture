{
 "cells": [
  {
   "cell_type": "markdown",
   "metadata": {},
   "source": [
    "### practice #4.1\n",
    "Try the following process:\n",
    "- import NumPy package.\n",
    "- read the first record in the `../dastabase/precipitation-24h.bin` file.\n",
    "- reshape to 2-dimensional array.\n",
    "\n",
    "`flipud` is not needed.\n",
    "\n",
    "The control file is given below."
   ]
  },
  {
   "cell_type": "code",
   "execution_count": 47,
   "metadata": {},
   "outputs": [],
   "source": [
    "NUM_X = 5\n",
    "NUM_Y = 5\n",
    "NUM_MESH = NUM_X * NUM_Y\n",
    "WORD_LENGTH = 4\n",
    "RECORD_LENGTH = NUM_MESH * WORD_LENGTH"
   ]
  },
  {
   "cell_type": "markdown",
   "metadata": {},
   "source": [
    "Result:\n",
    "```\n",
    "[[12.612703    8.753024    2.3407445   1.4685531   5.28154   ]\n",
    " [11.120362    8.354229    5.2669816   1.5054457   0.92759746]\n",
    " [11.29438     7.1976237   4.816882    0.4887265   2.3902524 ]\n",
    " [ 8.0598955   3.0899985   3.301363    0.6795741   0.        ]\n",
    " [ 7.4743543   9.468013    0.21009248  0.          0.26698786]]\n",
    "```\n",
    "\n",
    "\n",
    "Example code:\n",
    "```\n",
    "import numpy\n",
    "\n",
    "file_path = '../database/precipitation_24h.bin'\n",
    "record = numpy.fromfile(\n",
    "    file=file_path,\n",
    "    dtype=numpy.float32,\n",
    "    offset=0*RECORD_LENGTH,\n",
    "    count=NUM_MESH,\n",
    ")\n",
    "\n",
    "record_2d = numpy.reshape(record, [NUM_Y, NUM_X])\n",
    "\n",
    "print(record_2d)\n",
    "```"
   ]
  },
  {
   "cell_type": "markdown",
   "metadata": {},
   "source": [
    "---\n",
    "### practice #4.2\n",
    "Multiply the mesh area to derive the volume of rainfall [unit: ton (m^3)].\n",
    "\n",
    "- Each mesh size in the x direction is 11km (0.1 degree).\n",
    "- Each mesh size in the y direction is 11km (0.1 degree).\n",
    "- The unit of precipitation is millimeter.\n"
   ]
  },
  {
   "cell_type": "markdown",
   "metadata": {},
   "source": [
    "Result:\n",
    "```\n",
    "[[1526137.2   1059116.     283230.12   177694.92   639066.4  ]\n",
    " [1345564.    1010861.7    637304.8    182158.94   112239.3  ]\n",
    " [1366620.1    870912.5    582842.75    59135.91   289220.53 ]\n",
    " [ 975247.4    373889.84   399464.94    82228.47        0.   ]\n",
    " [ 904396.9   1145629.6     25421.191       0.      32305.531]]\n",
    "```\n",
    "\n",
    "Example code:\n",
    "```\n",
    "MESH_AREA_IN_METER = 11.0e+3 * 11.0e+3\n",
    "record_2d_in_meter = record_2d * 1.0e-3\n",
    "\n",
    "record_q = record_2d_in_meter * MESH_AREA_IN_METER\n",
    "\n",
    "print(record_q)\n",
    "```"
   ]
  },
  {
   "cell_type": "markdown",
   "metadata": {},
   "source": [
    "---\n",
    "\n",
    "### practice #4.3\n",
    "\n",
    "Get 24h time series data for the **2nd** from the **left** and the **4th** from the **top** as shown in the figure below:\n",
    "\n",
    "```\n",
    "- - - - -\n",
    "- - - - -\n",
    "- - - - -\n",
    "- x - - -\n",
    "- - - - -\n",
    "```\n",
    "\n",
    "Result:\n",
    "```\n",
    "[3.0899985, 1.6968727, 1.4542011, 1.1133314, 1.58915, 2.6248264, 2.5769398, 3.1597853, 1.94741, 1.4672701, 1.2250593, 2.181072, 1.217413, 2.0016506, 1.9193329, 2.1685753, 3.5202487, 4.329589, 5.7965198, 5.8334913, 6.129581, 7.07681, 7.6121306, 8.938053]\n",
    "```\n",
    "\n",
    "Example Code:\n",
    "```\n",
    "file_path = '../database/precipitation_24h.bin'\n",
    "\n",
    "x_index = 2 - 1\n",
    "y_index = 4 - 1\n",
    "\n",
    "time_series = []\n",
    "\n",
    "for i_hour in range(24):\n",
    "    record = numpy.fromfile(\n",
    "        file=file_path,\n",
    "        dtype=numpy.float32,\n",
    "        offset=i_hour*RECORD_LENGTH,\n",
    "        count=NUM_MESH,\n",
    "    )\n",
    "    record_2d = numpy.reshape(record, [NUM_Y, NUM_X])\n",
    "    value = record_2d[y_index][x_index]\n",
    "    time_series = [*time_series, value]\n",
    "\n",
    "print(time_series)\n",
    "```\n",
    "\n",
    "Or shorter code:\n",
    "```\n",
    "file_path = '../database/precipitation_24h.bin'\n",
    "\n",
    "x_index = 2 - 1\n",
    "y_index = 4 - 1\n",
    "\n",
    "time_series = [\n",
    "    numpy.fromfile(\n",
    "        file=file_path,\n",
    "        dtype=numpy.float32,\n",
    "        offset=i_hour*RECORD_LENGTH,\n",
    "        count=NUM_MESH,\n",
    "    )[x_index + y_index * NUM_X]\n",
    "    for i_hour in range(24)\n",
    "]\n",
    "\n",
    "print(time_series)\n",
    "```"
   ]
  }
 ],
 "metadata": {
  "kernelspec": {
   "display_name": "Python 3.8.10 64-bit",
   "language": "python",
   "name": "python3"
  },
  "language_info": {
   "codemirror_mode": {
    "name": "ipython",
    "version": 3
   },
   "file_extension": ".py",
   "mimetype": "text/x-python",
   "name": "python",
   "nbconvert_exporter": "python",
   "pygments_lexer": "ipython3",
   "version": "3.8.10"
  },
  "orig_nbformat": 4,
  "vscode": {
   "interpreter": {
    "hash": "31f2aee4e71d21fbe5cf8b01ff0e069b9275f58929596ceb00d14d90e3e16cd6"
   }
  }
 },
 "nbformat": 4,
 "nbformat_minor": 2
}
